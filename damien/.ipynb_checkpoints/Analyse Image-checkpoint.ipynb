{
 "metadata": {
  "name": "",
  "signature": "sha256:e9daf2e2eb1c1ad082776645baff618f88d05b969e4126aa4fc49d8a9b875e49"
 },
 "nbformat": 3,
 "nbformat_minor": 0,
 "worksheets": [
  {
   "cells": [
    {
     "cell_type": "code",
     "collapsed": false,
     "input": [
      "# -*- coding: utf-8 -*-\n",
      "# Importation des librairies\n",
      "from time import sleep\n",
      "from SimpleCV import Image\n",
      "import matplotlib.pyplot as plt\n",
      "plt.axes().set_aspect('equal')\n",
      "plt.ion()\n",
      "# D\u00e9finition d'une fonction d'affichage d'images\n",
      "def affichage(image, titre=''):\n",
      "    plt.clf()\n",
      "    image = image.rotate90().flipVertical()\n",
      "    plt.imshow(image.getNumpy())\n",
      "    plt.xticks([]); plt.yticks([])\n",
      "    plt.title(titre)\n",
      "    plt.draw()\n",
      "    sleep(delai)\n",
      "delai = 3"
     ],
     "language": "python",
     "metadata": {},
     "outputs": [],
     "prompt_number": 1
    },
    {
     "cell_type": "code",
     "collapsed": false,
     "input": [
      "# Importation de l'image\n",
      "img = Image('int17.png')\n",
      "affichage(img, 'Image originale')"
     ],
     "language": "python",
     "metadata": {},
     "outputs": [],
     "prompt_number": 2
    },
    {
     "cell_type": "code",
     "collapsed": false,
     "input": [
      "# D\u00e9coupage de la bande horizontale\n",
      "img = img.crop((0, 72), (128, 96))\n",
      "affichage(img, 'Bande horizontale inferieure')"
     ],
     "language": "python",
     "metadata": {},
     "outputs": [],
     "prompt_number": 3
    },
    {
     "cell_type": "code",
     "collapsed": false,
     "input": [
      "# Flou de l'image\n",
      "#img = img.smooth(aperture=(5, 5))\n",
      "#affichage(img, 'Image floue')"
     ],
     "language": "python",
     "metadata": {},
     "outputs": [],
     "prompt_number": 4
    },
    {
     "cell_type": "code",
     "collapsed": false,
     "input": [
      "# Calcul de la distance \u00e0 la couleur d'int\u00e9r\u00eat\n",
      "img = img.hueDistance(color=(75, 133 , 103), minsaturation=50)\n",
      "affichage(img, 'Distance a la couleur verte (niveaux de gris)')"
     ],
     "language": "python",
     "metadata": {},
     "outputs": [],
     "prompt_number": 5
    },
    {
     "cell_type": "code",
     "collapsed": false,
     "input": [
      "# Cr\u00e9ation de l'image binaire\n",
      "img = img.binarize(70)\n",
      "affichage(img, 'Image binaire (noir et blanc)')"
     ],
     "language": "python",
     "metadata": {},
     "outputs": [],
     "prompt_number": 20
    },
    {
     "cell_type": "code",
     "collapsed": false,
     "input": [
      "#img = img.dilate(5)\n",
      "#affichage(img, 'dilate')\n",
      "#img = img.erode(5)\n",
      "#affichage(img, 'erode')"
     ],
     "language": "python",
     "metadata": {},
     "outputs": [],
     "prompt_number": 8
    },
    {
     "cell_type": "code",
     "collapsed": false,
     "input": [
      "# D\u00e9coupages de la bande en 5 images individuelles\n",
      "i1 = img.crop((0, 0), (25, 24))\n",
      "i2 = img.crop((25, 24), (50, 0))\n",
      "i3 = img.crop((50, 0), (78, 24))\n",
      "i4 = img.crop((78, 24), (103, 0))\n",
      "i5 = img.crop((103, 0), (128, 24))\n",
      "images = [i1, i2, i3, i4, i5]\n",
      "\n",
      "# Affichage de l'image 1\n",
      "affichage(images[0], 'Image de gauche')"
     ],
     "language": "python",
     "metadata": {},
     "outputs": [],
     "prompt_number": 9
    },
    {
     "cell_type": "code",
     "collapsed": false,
     "input": [
      "# Affichage de l'image 2\n",
      "affichage(images[1], 'Image de centre-gauche')"
     ],
     "language": "python",
     "metadata": {},
     "outputs": [],
     "prompt_number": 10
    },
    {
     "cell_type": "code",
     "collapsed": false,
     "input": [
      "# Affichage de l'image 3\n",
      "affichage(images[2], 'Image du centre')"
     ],
     "language": "python",
     "metadata": {},
     "outputs": [],
     "prompt_number": 11
    },
    {
     "cell_type": "code",
     "collapsed": false,
     "input": [
      "# Affichage de l'image 4\n",
      "affichage(images[3], 'Image de centre-droite')"
     ],
     "language": "python",
     "metadata": {},
     "outputs": [],
     "prompt_number": 12
    },
    {
     "cell_type": "code",
     "collapsed": false,
     "input": [
      "# Affichage de l'image 5\n",
      "affichage(images[4], 'Image de droite')"
     ],
     "language": "python",
     "metadata": {},
     "outputs": [],
     "prompt_number": 13
    },
    {
     "cell_type": "code",
     "collapsed": false,
     "input": [
      "# D\u00e9tection de la ligne dans chaque image\n",
      "blob01 = []\n",
      "for i in images:\n",
      "    if i.findBlobs(minsize=20):\n",
      "        blob01.append(1)\n",
      "    else:\n",
      "        blob01.append(0)\n",
      "print blob01"
     ],
     "language": "python",
     "metadata": {},
     "outputs": [
      {
       "output_type": "stream",
       "stream": "stdout",
       "text": [
        "[1, 1, 1, 1, 1]\n"
       ]
      }
     ],
     "prompt_number": 14
    },
    {
     "cell_type": "code",
     "collapsed": false,
     "input": [
      "plt.close()"
     ],
     "language": "python",
     "metadata": {},
     "outputs": [],
     "prompt_number": 189
    },
    {
     "cell_type": "code",
     "collapsed": false,
     "input": [
      "from followLine import analyseImage\n",
      "#images = ['c1.png', 'c2.png', 'c3.png', 'c4.png', 'c5.png',\\\n",
      "#          '4c1.png', 'droite2.png', 'gauche1.png', 'ld2.png', 'ligne1.png',\\\n",
      "#          'u1.png', '4c2.png', 'fin1.png', 'gauche2.png', 'lg1.png',\\\n",
      "#          'T1.png', 'fin2.png', 'ld1.png', 'lg2.png', 'T2.png', 'u3.png']\n",
      "images = []\n",
      "for i in range(20):\n",
      "    images.append('int' + str(i) + '.png')\n",
      "for nom in images:\n",
      "    img = Image(nom)\n",
      "    resultat = analyseImage(img)\n",
      "    print nom, ':', resultat\n",
      "    affichage(img)"
     ],
     "language": "python",
     "metadata": {},
     "outputs": [
      {
       "output_type": "stream",
       "stream": "stdout",
       "text": [
        "int0.png : [1, 1, 1, 1, 1]\n",
        "int1.png"
       ]
      },
      {
       "output_type": "stream",
       "stream": "stdout",
       "text": [
        " : [1, 1, 1, 0, 0]\n",
        "int2.png"
       ]
      },
      {
       "output_type": "stream",
       "stream": "stdout",
       "text": [
        " : [0, 0, 0, 0, 0]\n",
        "int3.png"
       ]
      },
      {
       "output_type": "stream",
       "stream": "stdout",
       "text": [
        " : [0, 0, 1, 1, 1]\n",
        "int4.png"
       ]
      },
      {
       "output_type": "stream",
       "stream": "stdout",
       "text": [
        " : [1, 1, 1, 1, 1]\n",
        "int5.png"
       ]
      },
      {
       "output_type": "stream",
       "stream": "stdout",
       "text": [
        " : [1, 1, 1, 1, 1]\n",
        "int6.png"
       ]
      },
      {
       "output_type": "stream",
       "stream": "stdout",
       "text": [
        " : [0, 0, 0, 0, 0]\n",
        "int7.png"
       ]
      },
      {
       "output_type": "stream",
       "stream": "stdout",
       "text": [
        " : [1, 1, 1, 1, 1]\n",
        "int8.png"
       ]
      },
      {
       "output_type": "stream",
       "stream": "stdout",
       "text": [
        " : [1, 1, 1, 1, 1]\n",
        "int9.png"
       ]
      },
      {
       "output_type": "stream",
       "stream": "stdout",
       "text": [
        " : [0, 0, 0, 0, 0]\n",
        "int10.png"
       ]
      },
      {
       "output_type": "stream",
       "stream": "stdout",
       "text": [
        " : [0, 0, 1, 1, 0]\n",
        "int11.png"
       ]
      },
      {
       "output_type": "stream",
       "stream": "stdout",
       "text": [
        " : [0, 1, 1, 1, 1]\n",
        "int12.png"
       ]
      },
      {
       "output_type": "stream",
       "stream": "stdout",
       "text": [
        " : [0, 0, 0, 0, 0]\n",
        "int13.png"
       ]
      },
      {
       "output_type": "stream",
       "stream": "stdout",
       "text": [
        " : [1, 1, 1, 0, 0]\n",
        "int14.png"
       ]
      },
      {
       "output_type": "stream",
       "stream": "stdout",
       "text": [
        " : [1, 1, 1, 1, 1]\n",
        "int15.png"
       ]
      },
      {
       "output_type": "stream",
       "stream": "stdout",
       "text": [
        " : [0, 0, 0, 0, 0]\n",
        "int16.png"
       ]
      },
      {
       "output_type": "stream",
       "stream": "stdout",
       "text": [
        " : [0, 0, 0, 0, 0]\n",
        "int17.png"
       ]
      },
      {
       "output_type": "stream",
       "stream": "stdout",
       "text": [
        " : [0, 0, 0, 0, 0]\n",
        "int18.png"
       ]
      },
      {
       "output_type": "stream",
       "stream": "stdout",
       "text": [
        " : [1, 1, 1, 1, 1]\n",
        "int19.png"
       ]
      },
      {
       "output_type": "stream",
       "stream": "stdout",
       "text": [
        " : [1, 1, 1, 1, 1]\n"
       ]
      }
     ],
     "prompt_number": 5
    },
    {
     "cell_type": "code",
     "collapsed": false,
     "input": [
      "plt.close()"
     ],
     "language": "python",
     "metadata": {},
     "outputs": [],
     "prompt_number": 6
    },
    {
     "cell_type": "code",
     "collapsed": false,
     "input": [],
     "language": "python",
     "metadata": {},
     "outputs": []
    }
   ],
   "metadata": {}
  }
 ]
}